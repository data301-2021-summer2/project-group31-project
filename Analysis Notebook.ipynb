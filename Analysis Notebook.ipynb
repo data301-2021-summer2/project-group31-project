{
 "cells": [
  {
   "cell_type": "code",
   "execution_count": 1,
   "id": "7c2585a3-358e-45b4-ab58-7e124846cb0c",
   "metadata": {},
   "outputs": [],
   "source": [
    "import pandas as pd\n",
    "import seaborn as sns\n",
    "import numpy as np\n",
    "import os\n",
    "import matplotlib.pyplot as plt"
   ]
  },
  {
   "cell_type": "markdown",
   "id": "e9a8b070-d2bb-4ff5-9de3-08dab86277dc",
   "metadata": {},
   "source": [
    "# Thinking about an exploratory research question\n",
    "- Correlation doesn't mean causation\n",
    "- "
   ]
  },
  {
   "cell_type": "code",
   "execution_count": 2,
   "id": "bd078449-d2f4-4225-93c4-deb8cc62902d",
   "metadata": {},
   "outputs": [
    {
     "data": {
      "text/html": [
       "<div>\n",
       "<style scoped>\n",
       "    .dataframe tbody tr th:only-of-type {\n",
       "        vertical-align: middle;\n",
       "    }\n",
       "\n",
       "    .dataframe tbody tr th {\n",
       "        vertical-align: top;\n",
       "    }\n",
       "\n",
       "    .dataframe thead th {\n",
       "        text-align: right;\n",
       "    }\n",
       "</style>\n",
       "<table border=\"1\" class=\"dataframe\">\n",
       "  <thead>\n",
       "    <tr style=\"text-align: right;\">\n",
       "      <th></th>\n",
       "      <th>Job Title</th>\n",
       "      <th>Salary Estimate</th>\n",
       "      <th>Job Description</th>\n",
       "      <th>Rating</th>\n",
       "      <th>Company Name</th>\n",
       "      <th>Location</th>\n",
       "      <th>Headquarters</th>\n",
       "      <th>Size</th>\n",
       "      <th>Founded</th>\n",
       "      <th>Type of ownership</th>\n",
       "      <th>Industry</th>\n",
       "      <th>Sector</th>\n",
       "      <th>Revenue</th>\n",
       "      <th>Competitors</th>\n",
       "      <th>Easy Apply</th>\n",
       "    </tr>\n",
       "  </thead>\n",
       "  <tbody>\n",
       "    <tr>\n",
       "      <th>0</th>\n",
       "      <td>Data Engineer</td>\n",
       "      <td>$80K-$150K (Glassdoor est.)</td>\n",
       "      <td>Company Description\\nSagence is a management a...</td>\n",
       "      <td>4.5</td>\n",
       "      <td>Sagence\\n4.5</td>\n",
       "      <td>New York, NY</td>\n",
       "      <td>Chicago, IL</td>\n",
       "      <td>1 to 50 employees</td>\n",
       "      <td>2009</td>\n",
       "      <td>Company - Private</td>\n",
       "      <td>Consulting</td>\n",
       "      <td>Business Services</td>\n",
       "      <td>$10 to $25 million (USD)</td>\n",
       "      <td>WCI Consulting, PwC</td>\n",
       "      <td>-1</td>\n",
       "    </tr>\n",
       "    <tr>\n",
       "      <th>1</th>\n",
       "      <td>Senior Data Engineer (Healthcare Domain experi...</td>\n",
       "      <td>$80K-$150K (Glassdoor est.)</td>\n",
       "      <td>Key Responsibilities\\n\\n- Architect, build, an...</td>\n",
       "      <td>3.4</td>\n",
       "      <td>Enterprise Integration\\n3.4</td>\n",
       "      <td>New York, NY</td>\n",
       "      <td>Jacksonville, FL</td>\n",
       "      <td>51 to 200 employees</td>\n",
       "      <td>1998</td>\n",
       "      <td>Company - Private</td>\n",
       "      <td>IT Services</td>\n",
       "      <td>Information Technology</td>\n",
       "      <td>$25 to $50 million (USD)</td>\n",
       "      <td>-1</td>\n",
       "      <td>-1</td>\n",
       "    </tr>\n",
       "    <tr>\n",
       "      <th>2</th>\n",
       "      <td>Data Engineers</td>\n",
       "      <td>$80K-$150K (Glassdoor est.)</td>\n",
       "      <td>Overview\\n\\nJob description\\n\\nPosition Overvi...</td>\n",
       "      <td>5.0</td>\n",
       "      <td>Maestro Technologies\\n5.0</td>\n",
       "      <td>New York, NY</td>\n",
       "      <td>Trenton, NJ</td>\n",
       "      <td>51 to 200 employees</td>\n",
       "      <td>2003</td>\n",
       "      <td>Company - Private</td>\n",
       "      <td>IT Services</td>\n",
       "      <td>Information Technology</td>\n",
       "      <td>$5 to $10 million (USD)</td>\n",
       "      <td>-1</td>\n",
       "      <td>-1</td>\n",
       "    </tr>\n",
       "    <tr>\n",
       "      <th>3</th>\n",
       "      <td>Client Trade Support Engineer</td>\n",
       "      <td>$80K-$150K (Glassdoor est.)</td>\n",
       "      <td>About the Position\\n\\n\\nThis position will sup...</td>\n",
       "      <td>4.8</td>\n",
       "      <td>Jane Street\\n4.8</td>\n",
       "      <td>New York, NY</td>\n",
       "      <td>New York, NY</td>\n",
       "      <td>501 to 1000 employees</td>\n",
       "      <td>2000</td>\n",
       "      <td>Company - Private</td>\n",
       "      <td>Investment Banking &amp; Asset Management</td>\n",
       "      <td>Finance</td>\n",
       "      <td>Unknown / Non-Applicable</td>\n",
       "      <td>-1</td>\n",
       "      <td>-1</td>\n",
       "    </tr>\n",
       "    <tr>\n",
       "      <th>4</th>\n",
       "      <td>Data Engineer</td>\n",
       "      <td>$80K-$150K (Glassdoor est.)</td>\n",
       "      <td>Data Engineer\\n\\nJob Details\\nLevel\\nExperienc...</td>\n",
       "      <td>3.7</td>\n",
       "      <td>GNY Insurance Companies\\n3.7</td>\n",
       "      <td>New York, NY</td>\n",
       "      <td>New York, NY</td>\n",
       "      <td>201 to 500 employees</td>\n",
       "      <td>1914</td>\n",
       "      <td>Company - Private</td>\n",
       "      <td>Insurance Carriers</td>\n",
       "      <td>Insurance</td>\n",
       "      <td>$100 to $500 million (USD)</td>\n",
       "      <td>Travelers, Chubb, Crum &amp; Forster</td>\n",
       "      <td>True</td>\n",
       "    </tr>\n",
       "  </tbody>\n",
       "</table>\n",
       "</div>"
      ],
      "text/plain": [
       "                                           Job Title  \\\n",
       "0                                      Data Engineer   \n",
       "1  Senior Data Engineer (Healthcare Domain experi...   \n",
       "2                                     Data Engineers   \n",
       "3                      Client Trade Support Engineer   \n",
       "4                                      Data Engineer   \n",
       "\n",
       "               Salary Estimate  \\\n",
       "0  $80K-$150K (Glassdoor est.)   \n",
       "1  $80K-$150K (Glassdoor est.)   \n",
       "2  $80K-$150K (Glassdoor est.)   \n",
       "3  $80K-$150K (Glassdoor est.)   \n",
       "4  $80K-$150K (Glassdoor est.)   \n",
       "\n",
       "                                     Job Description  Rating  \\\n",
       "0  Company Description\\nSagence is a management a...     4.5   \n",
       "1  Key Responsibilities\\n\\n- Architect, build, an...     3.4   \n",
       "2  Overview\\n\\nJob description\\n\\nPosition Overvi...     5.0   \n",
       "3  About the Position\\n\\n\\nThis position will sup...     4.8   \n",
       "4  Data Engineer\\n\\nJob Details\\nLevel\\nExperienc...     3.7   \n",
       "\n",
       "                   Company Name      Location      Headquarters  \\\n",
       "0                  Sagence\\n4.5  New York, NY       Chicago, IL   \n",
       "1   Enterprise Integration\\n3.4  New York, NY  Jacksonville, FL   \n",
       "2     Maestro Technologies\\n5.0  New York, NY       Trenton, NJ   \n",
       "3              Jane Street\\n4.8  New York, NY      New York, NY   \n",
       "4  GNY Insurance Companies\\n3.7  New York, NY      New York, NY   \n",
       "\n",
       "                    Size  Founded  Type of ownership  \\\n",
       "0      1 to 50 employees     2009  Company - Private   \n",
       "1    51 to 200 employees     1998  Company - Private   \n",
       "2    51 to 200 employees     2003  Company - Private   \n",
       "3  501 to 1000 employees     2000  Company - Private   \n",
       "4   201 to 500 employees     1914  Company - Private   \n",
       "\n",
       "                                Industry                  Sector  \\\n",
       "0                             Consulting       Business Services   \n",
       "1                            IT Services  Information Technology   \n",
       "2                            IT Services  Information Technology   \n",
       "3  Investment Banking & Asset Management                 Finance   \n",
       "4                     Insurance Carriers               Insurance   \n",
       "\n",
       "                      Revenue                       Competitors Easy Apply  \n",
       "0    $10 to $25 million (USD)               WCI Consulting, PwC         -1  \n",
       "1    $25 to $50 million (USD)                                -1         -1  \n",
       "2     $5 to $10 million (USD)                                -1         -1  \n",
       "3    Unknown / Non-Applicable                                -1         -1  \n",
       "4  $100 to $500 million (USD)  Travelers, Chubb, Crum & Forster       True  "
      ]
     },
     "execution_count": 2,
     "metadata": {},
     "output_type": "execute_result"
    }
   ],
   "source": [
    "df1 = pd.read_csv('data/raw/DataEngineer.csv',sep=',') # Comma-seperated values file and Comma-delimited \n",
    "df1.head()"
   ]
  },
  {
   "cell_type": "code",
   "execution_count": 11,
   "id": "fa271d1a-6d67-4ecf-a615-7d766118f63c",
   "metadata": {},
   "outputs": [
    {
     "data": {
      "text/html": [
       "<div>\n",
       "<style scoped>\n",
       "    .dataframe tbody tr th:only-of-type {\n",
       "        vertical-align: middle;\n",
       "    }\n",
       "\n",
       "    .dataframe tbody tr th {\n",
       "        vertical-align: top;\n",
       "    }\n",
       "\n",
       "    .dataframe thead th {\n",
       "        text-align: right;\n",
       "    }\n",
       "</style>\n",
       "<table border=\"1\" class=\"dataframe\">\n",
       "  <thead>\n",
       "    <tr style=\"text-align: right;\">\n",
       "      <th></th>\n",
       "      <th>Job Title</th>\n",
       "      <th>Salary Estimate</th>\n",
       "      <th>Rating</th>\n",
       "      <th>Company Name</th>\n",
       "      <th>Location</th>\n",
       "      <th>Headquarters</th>\n",
       "      <th>Size</th>\n",
       "      <th>Founded</th>\n",
       "      <th>Type of ownership</th>\n",
       "      <th>Industry</th>\n",
       "      <th>Sector</th>\n",
       "      <th>Revenue</th>\n",
       "      <th>Competitors</th>\n",
       "    </tr>\n",
       "  </thead>\n",
       "  <tbody>\n",
       "    <tr>\n",
       "      <th>0</th>\n",
       "      <td>Data Engineer</td>\n",
       "      <td>$80K-$150K (Glassdoor est.)</td>\n",
       "      <td>4.5</td>\n",
       "      <td>Sagence\\n4.5</td>\n",
       "      <td>New York, NY</td>\n",
       "      <td>Chicago, IL</td>\n",
       "      <td>1 to 50 employees</td>\n",
       "      <td>2009</td>\n",
       "      <td>Company - Private</td>\n",
       "      <td>Consulting</td>\n",
       "      <td>Business Services</td>\n",
       "      <td>$10 to $25 million (USD)</td>\n",
       "      <td>WCI Consulting, PwC</td>\n",
       "    </tr>\n",
       "    <tr>\n",
       "      <th>1</th>\n",
       "      <td>Senior Data Engineer (Healthcare Domain experi...</td>\n",
       "      <td>$80K-$150K (Glassdoor est.)</td>\n",
       "      <td>3.4</td>\n",
       "      <td>Enterprise Integration\\n3.4</td>\n",
       "      <td>New York, NY</td>\n",
       "      <td>Jacksonville, FL</td>\n",
       "      <td>51 to 200 employees</td>\n",
       "      <td>1998</td>\n",
       "      <td>Company - Private</td>\n",
       "      <td>IT Services</td>\n",
       "      <td>Information Technology</td>\n",
       "      <td>$25 to $50 million (USD)</td>\n",
       "      <td>-1</td>\n",
       "    </tr>\n",
       "    <tr>\n",
       "      <th>2</th>\n",
       "      <td>Data Engineers</td>\n",
       "      <td>$80K-$150K (Glassdoor est.)</td>\n",
       "      <td>5.0</td>\n",
       "      <td>Maestro Technologies\\n5.0</td>\n",
       "      <td>New York, NY</td>\n",
       "      <td>Trenton, NJ</td>\n",
       "      <td>51 to 200 employees</td>\n",
       "      <td>2003</td>\n",
       "      <td>Company - Private</td>\n",
       "      <td>IT Services</td>\n",
       "      <td>Information Technology</td>\n",
       "      <td>$5 to $10 million (USD)</td>\n",
       "      <td>-1</td>\n",
       "    </tr>\n",
       "    <tr>\n",
       "      <th>3</th>\n",
       "      <td>Client Trade Support Engineer</td>\n",
       "      <td>$80K-$150K (Glassdoor est.)</td>\n",
       "      <td>4.8</td>\n",
       "      <td>Jane Street\\n4.8</td>\n",
       "      <td>New York, NY</td>\n",
       "      <td>New York, NY</td>\n",
       "      <td>501 to 1000 employees</td>\n",
       "      <td>2000</td>\n",
       "      <td>Company - Private</td>\n",
       "      <td>Investment Banking &amp; Asset Management</td>\n",
       "      <td>Finance</td>\n",
       "      <td>Unknown / Non-Applicable</td>\n",
       "      <td>-1</td>\n",
       "    </tr>\n",
       "    <tr>\n",
       "      <th>4</th>\n",
       "      <td>Data Engineer</td>\n",
       "      <td>$80K-$150K (Glassdoor est.)</td>\n",
       "      <td>3.7</td>\n",
       "      <td>GNY Insurance Companies\\n3.7</td>\n",
       "      <td>New York, NY</td>\n",
       "      <td>New York, NY</td>\n",
       "      <td>201 to 500 employees</td>\n",
       "      <td>1914</td>\n",
       "      <td>Company - Private</td>\n",
       "      <td>Insurance Carriers</td>\n",
       "      <td>Insurance</td>\n",
       "      <td>$100 to $500 million (USD)</td>\n",
       "      <td>Travelers, Chubb, Crum &amp; Forster</td>\n",
       "    </tr>\n",
       "  </tbody>\n",
       "</table>\n",
       "</div>"
      ],
      "text/plain": [
       "                                           Job Title  \\\n",
       "0                                      Data Engineer   \n",
       "1  Senior Data Engineer (Healthcare Domain experi...   \n",
       "2                                     Data Engineers   \n",
       "3                      Client Trade Support Engineer   \n",
       "4                                      Data Engineer   \n",
       "\n",
       "               Salary Estimate  Rating                  Company Name  \\\n",
       "0  $80K-$150K (Glassdoor est.)     4.5                  Sagence\\n4.5   \n",
       "1  $80K-$150K (Glassdoor est.)     3.4   Enterprise Integration\\n3.4   \n",
       "2  $80K-$150K (Glassdoor est.)     5.0     Maestro Technologies\\n5.0   \n",
       "3  $80K-$150K (Glassdoor est.)     4.8              Jane Street\\n4.8   \n",
       "4  $80K-$150K (Glassdoor est.)     3.7  GNY Insurance Companies\\n3.7   \n",
       "\n",
       "       Location      Headquarters                   Size  Founded  \\\n",
       "0  New York, NY       Chicago, IL      1 to 50 employees     2009   \n",
       "1  New York, NY  Jacksonville, FL    51 to 200 employees     1998   \n",
       "2  New York, NY       Trenton, NJ    51 to 200 employees     2003   \n",
       "3  New York, NY      New York, NY  501 to 1000 employees     2000   \n",
       "4  New York, NY      New York, NY   201 to 500 employees     1914   \n",
       "\n",
       "   Type of ownership                               Industry  \\\n",
       "0  Company - Private                             Consulting   \n",
       "1  Company - Private                            IT Services   \n",
       "2  Company - Private                            IT Services   \n",
       "3  Company - Private  Investment Banking & Asset Management   \n",
       "4  Company - Private                     Insurance Carriers   \n",
       "\n",
       "                   Sector                     Revenue  \\\n",
       "0       Business Services    $10 to $25 million (USD)   \n",
       "1  Information Technology    $25 to $50 million (USD)   \n",
       "2  Information Technology     $5 to $10 million (USD)   \n",
       "3                 Finance    Unknown / Non-Applicable   \n",
       "4               Insurance  $100 to $500 million (USD)   \n",
       "\n",
       "                        Competitors  \n",
       "0               WCI Consulting, PwC  \n",
       "1                                -1  \n",
       "2                                -1  \n",
       "3                                -1  \n",
       "4  Travelers, Chubb, Crum & Forster  "
      ]
     },
     "execution_count": 11,
     "metadata": {},
     "output_type": "execute_result"
    }
   ],
   "source": [
    "# Removed the \"Job Description\"\n",
    "# Removed \"Easy Apply\" because it is a unique feature on Glassdoor job website that allows the applicant to directly apply on Glassdoor instead of going being redirected to the company website application portal\n",
    "df2 = df1.drop(['Job Description',\"Easy Apply\"],axis='columns') \n",
    "df2.head()"
   ]
  },
  {
   "cell_type": "code",
   "execution_count": null,
   "id": "9e5d3cd6-39aa-4e97-ac45-83f22ffa3ab3",
   "metadata": {},
   "outputs": [],
   "source": [
    "#Rename \"Rating\" column to \n",
    "df2 = df2.rename(columns = {Rating})"
   ]
  },
  {
   "cell_type": "code",
   "execution_count": 14,
   "id": "669768b2-5054-4b1a-8b74-d1d628fce66e",
   "metadata": {},
   "outputs": [
    {
     "name": "stdout",
     "output_type": "stream",
     "text": [
      "<class 'pandas.core.frame.DataFrame'>\n",
      "RangeIndex: 2528 entries, 0 to 2527\n",
      "Data columns (total 13 columns):\n",
      " #   Column             Non-Null Count  Dtype  \n",
      "---  ------             --------------  -----  \n",
      " 0   Job Title          2528 non-null   object \n",
      " 1   Salary Estimate    2528 non-null   object \n",
      " 2   Rating             2528 non-null   float64\n",
      " 3   Company Name       2528 non-null   object \n",
      " 4   Location           2528 non-null   object \n",
      " 5   Headquarters       2528 non-null   object \n",
      " 6   Size               2528 non-null   object \n",
      " 7   Founded            2528 non-null   int64  \n",
      " 8   Type of ownership  2528 non-null   object \n",
      " 9   Industry           2528 non-null   object \n",
      " 10  Sector             2528 non-null   object \n",
      " 11  Revenue            2528 non-null   object \n",
      " 12  Competitors        2528 non-null   object \n",
      "dtypes: float64(1), int64(1), object(11)\n",
      "memory usage: 256.9+ KB\n"
     ]
    }
   ],
   "source": [
    "df2.info()\n",
    "# \"Keep in mind that in Pandas, string data is always stored with an object dtype.\" from Class3B lecture"
   ]
  },
  {
   "cell_type": "code",
   "execution_count": 18,
   "id": "65c59047-d48f-40dc-988d-592e53b9d7e6",
   "metadata": {},
   "outputs": [],
   "source": [
    "# Converted \"-1\" into str \"Unknown\"\n",
    "# checked on https://www.glassdoor.ca/Job/burnaby-engineering-jobs-SRCH_IL.0,7_IC2278200_KO8,19.htm \n",
    "# That \"Unknown\" in appeared in some company revenue, size, and sector so I can assume that \"-1\" in this dataset is Unknown\n"
   ]
  },
  {
   "cell_type": "code",
   "execution_count": 19,
   "id": "5a6d4e32-2e6a-4694-9ecd-456090f6a871",
   "metadata": {},
   "outputs": [
    {
     "data": {
      "text/plain": [
       "3.3795490506329116"
      ]
     },
     "execution_count": 19,
     "metadata": {},
     "output_type": "execute_result"
    }
   ],
   "source": [
    "# For \"Rating\" column, turning int -1 to 0 so the mean calculation will be correct\n",
    "rating_average = np.mean(df2[\"Rating\"])\n",
    "rating_average"
   ]
  },
  {
   "cell_type": "code",
   "execution_count": 10,
   "id": "fafe7c32-59cb-46b6-92a8-19b2e10b3a0d",
   "metadata": {},
   "outputs": [
    {
     "data": {
      "text/plain": [
       "pandas.core.series.Series"
      ]
     },
     "execution_count": 10,
     "metadata": {},
     "output_type": "execute_result"
    }
   ],
   "source": [
    "# Convert str \"80K - 150K\" in the \"Salary Estimate\" to maybe int\n"
   ]
  },
  {
   "cell_type": "code",
   "execution_count": 8,
   "id": "ee198b97-c8ed-407a-bfc5-6c72e1e9788d",
   "metadata": {},
   "outputs": [
    {
     "data": {
      "text/plain": [
       "['Sagence\\n4.5',\n",
       " 'Enterprise Integration\\n3.4',\n",
       " 'Maestro Technologies\\n5.0',\n",
       " 'Jane Street\\n4.8',\n",
       " 'GNY Insurance Companies\\n3.7',\n",
       " 'Oscar Health\\n3.7',\n",
       " 'Affinity Solutions\\n3.0',\n",
       " 'NJF Global Holdings\\n4.2',\n",
       " 'Teza Technologies\\n4.3',\n",
       " 'Conductor\\n4.4',\n",
       " 'Jane Street\\n4.8',\n",
       " 'Twitter\\n4.0',\n",
       " 'Verra Mobility\\n3.9',\n",
       " '7Park Data\\n3.9',\n",
       " 'Veeva Systems\\n3.5']"
      ]
     },
     "execution_count": 8,
     "metadata": {},
     "output_type": "execute_result"
    }
   ],
   "source": [
    "# Remove number in Company Name, \"Sagence\\n4.5\" to \"Sagence\"\n",
    "CompanyName_Data = list(df2[\"Company Name\"])\n",
    "CompanyName_Data[0:15]"
   ]
  },
  {
   "cell_type": "code",
   "execution_count": 13,
   "id": "c13acc0a-8539-44fd-9170-a68e3c2bf1a4",
   "metadata": {},
   "outputs": [
    {
     "data": {
      "text/plain": [
       "['Software Engineer, Data',\n",
       " 'Senior Software Engineer - Compute Infrastructure',\n",
       " 'Staff Engineer, Device Modeling',\n",
       " 'Data Center Hardware Engineer (Deployment)',\n",
       " 'Analog Design Engineer',\n",
       " 'Sr Test Platform Engineer',\n",
       " 'Sr. Data Engineer',\n",
       " 'Lead Security Engineer',\n",
       " 'Systems Engineer',\n",
       " 'Senior Engineer, Data',\n",
       " 'Java Software Engineer - Server Side',\n",
       " 'Senior Backend Engineer - Chicago',\n",
       " 'Java with big data engineer',\n",
       " 'Infrastructure Engineer',\n",
       " 'SR. IT Engineer']"
      ]
     },
     "execution_count": 13,
     "metadata": {},
     "output_type": "execute_result"
    }
   ],
   "source": [
    "unique_job = list(set(df1[\"Job Title\"]))\n",
    "unique_job[0:15]"
   ]
  },
  {
   "cell_type": "code",
   "execution_count": null,
   "id": "b3044be1-e34f-443e-8fa3-82f0f6b6252b",
   "metadata": {},
   "outputs": [],
   "source": [
    "# There are a lot of different unique job title, but with similiar position (i.e Data Engineer & Data Engineer Python)\n",
    "# In order to use a count plot with job title we can make the job title more general, instead of \"Data Engineer - Python\" it can be \"Data Engineer\"\n",
    "# Its corresponding information will make it unique from the others Data Engineer titles\n",
    "# Or the dataset might be large enough to only include the job with basic title (i.e Data Engineer Software Engineer)\n"
   ]
  },
  {
   "cell_type": "code",
   "execution_count": 18,
   "id": "15ccc233-aaee-450a-9e2a-ccb8ed1a9491",
   "metadata": {},
   "outputs": [
    {
     "data": {
      "text/plain": [
       "{'-1',\n",
       " '1 to 50 employees',\n",
       " '10000+ employees',\n",
       " '1001 to 5000 employees',\n",
       " '201 to 500 employees',\n",
       " '5001 to 10000 employees',\n",
       " '501 to 1000 employees',\n",
       " '51 to 200 employees',\n",
       " 'Unknown'}"
      ]
     },
     "execution_count": 18,
     "metadata": {},
     "output_type": "execute_result"
    }
   ],
   "source": [
    "unique_size = set(df1[\"Size\"])\n",
    "unique_size"
   ]
  },
  {
   "cell_type": "code",
   "execution_count": null,
   "id": "2940cf14-67e7-47bc-bd3f-dd9c911d2e0d",
   "metadata": {},
   "outputs": [],
   "source": [
    "# I am going to categorize the size of the company into using this Canadian goverment website with small modifcation to work with this data set\n",
    "# https://www150.statcan.gc.ca/n1/pub/11f0027m/2011069/part-partie1-eng.htm\n",
    "# The exact number of the company size is not known in this data set so I would say it's okay to go over the limit that was described in the goverment link\n",
    "# Also the goverment link is archived so the infornmation is not updated. This is just for use of referencing\n",
    "\n",
    "# 1 to to 200 is small\n",
    "# 201 to 500 is medium\n",
    "# +500 is large\n",
    "# -1 is assumed to be unknown "
   ]
  },
  {
   "cell_type": "markdown",
   "id": "0746d391-b628-4f9f-bb66-fb96827704ff",
   "metadata": {},
   "source": [
    "# Method Chaining"
   ]
  },
  {
   "cell_type": "code",
   "execution_count": null,
   "id": "cbeb0586-29c0-4c52-b7a9-472aa180cafe",
   "metadata": {},
   "outputs": [],
   "source": []
  },
  {
   "cell_type": "code",
   "execution_count": null,
   "id": "68062241-24bb-4c9c-92c8-1aad5a8f1060",
   "metadata": {},
   "outputs": [],
   "source": []
  },
  {
   "cell_type": "code",
   "execution_count": null,
   "id": "e89397d9-3a7f-4acd-b52b-f55dcc658135",
   "metadata": {},
   "outputs": [],
   "source": []
  },
  {
   "cell_type": "code",
   "execution_count": null,
   "id": "0575b6b5-5823-4a55-a59e-2bd2af8a2bb2",
   "metadata": {},
   "outputs": [],
   "source": []
  },
  {
   "cell_type": "code",
   "execution_count": null,
   "id": "51966965-c8b5-4ec5-b857-110e9f15a552",
   "metadata": {},
   "outputs": [],
   "source": []
  },
  {
   "cell_type": "code",
   "execution_count": null,
   "id": "11a7f07a-e704-4174-ac3c-b5917215d107",
   "metadata": {},
   "outputs": [],
   "source": []
  },
  {
   "cell_type": "code",
   "execution_count": null,
   "id": "dbddd82e-f519-429e-a8f4-45b74b551c42",
   "metadata": {},
   "outputs": [],
   "source": []
  },
  {
   "cell_type": "code",
   "execution_count": null,
   "id": "1ea07084-21af-4d6c-87e9-b010bdf1d3bf",
   "metadata": {},
   "outputs": [],
   "source": []
  },
  {
   "cell_type": "code",
   "execution_count": null,
   "id": "8dfe2e85-5b58-4bd7-9be5-ebe082e51616",
   "metadata": {},
   "outputs": [],
   "source": []
  },
  {
   "cell_type": "code",
   "execution_count": null,
   "id": "0e8c913d-06ef-4c22-a122-dd16dc7cee74",
   "metadata": {},
   "outputs": [],
   "source": []
  },
  {
   "cell_type": "code",
   "execution_count": null,
   "id": "545992ff-47db-42ac-9153-52e55c5e25ed",
   "metadata": {},
   "outputs": [],
   "source": []
  },
  {
   "cell_type": "code",
   "execution_count": null,
   "id": "1f95ab02-9e6b-4491-99eb-87808444a48d",
   "metadata": {},
   "outputs": [],
   "source": []
  },
  {
   "cell_type": "code",
   "execution_count": null,
   "id": "4d6986dd-fd29-4874-a358-c0e126d2883a",
   "metadata": {},
   "outputs": [],
   "source": []
  },
  {
   "cell_type": "code",
   "execution_count": null,
   "id": "bb961999-72e8-4539-8741-1635ec7743ec",
   "metadata": {},
   "outputs": [],
   "source": []
  },
  {
   "cell_type": "code",
   "execution_count": null,
   "id": "75c0445c-5158-40ff-9414-ff5d4f71b091",
   "metadata": {},
   "outputs": [],
   "source": []
  },
  {
   "cell_type": "code",
   "execution_count": null,
   "id": "7aa313b6-ac27-493c-8123-b659458dc854",
   "metadata": {},
   "outputs": [],
   "source": []
  },
  {
   "cell_type": "markdown",
   "id": "2dd8b895-1ede-4493-b987-d7b7c1a1146d",
   "metadata": {},
   "source": [
    "# Research Question\n",
    "***Should you work for a small company instead of a larger one?***\n",
    " - Company size\n",
    " - Salary Estimate\n",
    " - Rating \n",
    " \n",
    " Note: Rating can be posted by anyone so some might be fake and a few could come from disgrunted employees\n",
    "\n",
    "\"More for visulization\"\n",
    " - Job Title\n",
    " - Industry and Sector \n",
    " - Location "
   ]
  },
  {
   "cell_type": "code",
   "execution_count": null,
   "id": "e4fcf6d3-fbb8-42af-a2fe-90488f3c7f3a",
   "metadata": {},
   "outputs": [],
   "source": []
  }
 ],
 "metadata": {
  "kernelspec": {
   "display_name": "Python 3 (ipykernel)",
   "language": "python",
   "name": "python3"
  },
  "language_info": {
   "codemirror_mode": {
    "name": "ipython",
    "version": 3
   },
   "file_extension": ".py",
   "mimetype": "text/x-python",
   "name": "python",
   "nbconvert_exporter": "python",
   "pygments_lexer": "ipython3",
   "version": "3.8.5"
  }
 },
 "nbformat": 4,
 "nbformat_minor": 5
}
