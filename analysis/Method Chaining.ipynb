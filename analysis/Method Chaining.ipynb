{
 "cells": [
  {
   "cell_type": "markdown",
   "id": "0fabaea8-d30a-4c04-8646-4dd548f7928c",
   "metadata": {},
   "source": [
    "## Task 2 Method Chaining"
   ]
  },
  {
   "cell_type": "markdown",
   "id": "14ea86bf-f3a4-4ec6-928d-5af420e36fc8",
   "metadata": {},
   "source": [
    "### Method Chain"
   ]
  },
  {
   "cell_type": "code",
   "execution_count": 1,
   "id": "cbf15354-4ea1-446b-bc5d-04ad1c765e6e",
   "metadata": {},
   "outputs": [],
   "source": [
    "import pandas as pd\n",
    "import numpy as np\n",
    "def load_and_process(path):\n",
    "\n",
    "# Method Chain 1, load data and drop and replace columns\n",
    "    # Replace unknown data in Company Rating and Size Column \n",
    "\n",
    "    df = (pd.read_csv(path,sep=',')\n",
    "          .drop(['Job Description',\"Easy Apply\",\"Competitors\",\"Industry\",\"Sector\",\"Revenue\",\"Type of ownership\",\"Headquarters\",\"Founded\"],axis='columns') \n",
    "          .rename(columns = {\"Rating\" : \"Company Rating\",\"Size\":\"Company Size\"})\n",
    "         )\n",
    "\n",
    "    df_replace = (pd.DataFrame(data=df)\n",
    "           .loc[lambda x: x[\"Company Size\"]==\"-1\"]\n",
    "           .replace(\"-1\",\"Unknown\")\n",
    "          )\n",
    "    df.update(df_replace)\n",
    "     \n",
    "\n",
    "# Method Chain 2, Remove new line(\"\\n\") in Company name column\n",
    "    # Remove (Glassdoor est.) in Salary Estimate column\n",
    "\n",
    "    df2 = (pd.DataFrame(data=df[\"Company Name\"])\n",
    "          .replace(r'\\n.*', '', regex=True)\n",
    "         )\n",
    "    df.update(df2)\n",
    "\n",
    "    df2 = (pd.DataFrame(data=df[\"Salary Estimate\"])\n",
    "          .replace(r'\\(.*', '', regex=True)\n",
    "          .replace('[\\$]', '', regex=True)\n",
    "         )    \n",
    "    df.update(df2)\n",
    "        \n",
    "    # Convert datatype in Salary Estimate column to int and Create new Min and Max column \n",
    "\n",
    "    new = df[\"Salary Estimate\"].str.split(\"-\", n = 1, expand = True)\n",
    "    df[\"Minimum Salary\"]= new[0]\n",
    "    df[\"Maximum Salary\"]= new[1]\n",
    "    df.drop(columns =[\"Salary Estimate\"],inplace = True)\n",
    "\n",
    "    df2 = (pd.DataFrame(data=df[\"Minimum Salary\"])\n",
    "          .replace('K', '', regex=True)\n",
    "         )\n",
    "    df2[\"Minimum Salary\"] = df2[\"Minimum Salary\"].astype(int)\n",
    "    df2=df2*1000\n",
    "    df.update(df2)\n",
    "\n",
    "    df2 = (pd.DataFrame(data=df[\"Maximum Salary\"])\n",
    "          .replace('K', '', regex=True)\n",
    "         )\n",
    "    df2[\"Maximum Salary\"] = df2[\"Maximum Salary\"].astype(int)\n",
    "    df2=df2*1000\n",
    "    df.update(df2)\n",
    "    \n",
    "    df[\"Average Salary\"] = (df[\"Maximum Salary\"]+df[\"Minimum Salary\"])/2\n",
    "    \n",
    "    df[\"Maximum Salary\"] = df[\"Maximum Salary\"].astype(int)\n",
    "    df[\"Minimum Salary\"] = df[\"Minimum Salary\"].astype(int)\n",
    "    df[\"Average Salary\"] = df[\"Average Salary\"].astype(int)\n",
    "    \n",
    "# Cut down data size to only include Data Engineer, Software Engineer, and Big Data Engineer job title\n",
    "     \n",
    "    DataEng_data = df.loc[df[\"Job Title\"]== \"Data Engineer\"] #469 rows\n",
    "    SoftEng_data = df.loc[df[\"Job Title\"]== \"Software Engineer\"] #93 rows\n",
    "    BigDataEng_data = df.loc[df[\"Job Title\"]== \"Big Data Engineer\"] #73 rows\n",
    "    frames = [DataEng_data,SoftEng_data,BigDataEng_data]\n",
    "    df = pd.concat(frames)\n",
    "    df = df.reset_index()\n",
    "    df = df.drop('index',axis='columns')\n",
    "\n",
    "# Caterogized company size column\n",
    "        \n",
    "    df[\"Company Size\"].loc[df[\"Company Size\"] == \"1 to 50 employees\"] = \"Small\"\n",
    "    df[\"Company Size\"].loc[df[\"Company Size\"] == \"51 to 200 employees\"] = \"Small\"\n",
    "    df[\"Company Size\"].loc[df[\"Company Size\"] == \"201 to 500 employees\"] = \"Medium\"\n",
    "    df[\"Company Size\"].loc[df[\"Company Size\"] == \"501 to 1000 employees\"] = \"Large\"\n",
    "    df[\"Company Size\"].loc[df[\"Company Size\"] == \"1001 to 5000 employees\"] = \"Large\"\n",
    "    df[\"Company Size\"].loc[df[\"Company Size\"] == \"5001 to 10000 employees\"] = \"Large\"\n",
    "    df[\"Company Size\"].loc[df[\"Company Size\"] == \"10000+ employees\"] = \"Large\" \n",
    "    \n",
    "# Lat and Long of each state for heatmap in dashboard  \n",
    "    df[\"State\"] = df[\"Location\"].replace(r'^.*?,', '', regex=True)\n",
    "    df[\"State\"].loc[df[\"State\"]==\" NY\"] = \"40.730610,-73.935242\"\n",
    "    df[\"State\"].loc[df[\"State\"]==\" IL\"] = \"41.881832,-87.623177\"\n",
    "    df[\"State\"].loc[df[\"State\"]==\" CA\"] = \"36.778259,-119.417931\"\n",
    "    df[\"State\"].loc[df[\"State\"]==\" TX\"] = \"31.000000,-100.000000\"\n",
    "    df[\"State\"].loc[df[\"State\"]==\" AZ\"] = \"34.048927,-111.093735\"\n",
    "    df[\"State\"].loc[df[\"State\"]==\" PA\"] = \"41.203323,-77.194527\"\n",
    "    df[\"State\"].loc[df[\"State\"]==\" NJ\"] = \"39.833851,-74.871826\"\n",
    "    df[\"State\"].loc[df[\"State\"]==\" DE\"] = \"39.000000,-75.500000\"\n",
    "    df[\"State\"].loc[df[\"State\"]==\" FL\"] = \"27.994402,-81.760254\"\n",
    "    new2 = df[\"State\"].str.split(\",\", n = 1, expand = True)\n",
    "    df[\"Lat\"]= new2[0]\n",
    "    df[\"Long\"]= new2[1]\n",
    "    df.drop(columns =[\"State\"],inplace = True)\n",
    "    df[\"Lat\"] = df[\"Lat\"].astype(float)\n",
    "    df[\"Long\"] = df[\"Long\"].astype(float)\n",
    "    \n",
    "    \n",
    "    return (df)\n"
   ]
  },
  {
   "cell_type": "code",
   "execution_count": 2,
   "id": "16b361da-3436-44ab-855f-79a87dae9e42",
   "metadata": {},
   "outputs": [
    {
     "name": "stderr",
     "output_type": "stream",
     "text": [
      "C:\\Users\\myste\\miniconda3\\lib\\site-packages\\pandas\\core\\indexing.py:1732: SettingWithCopyWarning: \n",
      "A value is trying to be set on a copy of a slice from a DataFrame\n",
      "\n",
      "See the caveats in the documentation: https://pandas.pydata.org/pandas-docs/stable/user_guide/indexing.html#returning-a-view-versus-a-copy\n",
      "  self._setitem_single_block(indexer, value, name)\n"
     ]
    }
   ],
   "source": [
    "df_clean = load_and_process('../data/raw/DataEngineer.csv')\n",
    "df_clean.to_csv(r'../data/processed/clean_dataengineer.csv', index = False, header = True)"
   ]
  },
  {
   "cell_type": "code",
   "execution_count": null,
   "id": "20424faa-3491-40ec-b172-48e04de087cd",
   "metadata": {},
   "outputs": [],
   "source": []
  }
 ],
 "metadata": {
  "kernelspec": {
   "display_name": "Python 3 (ipykernel)",
   "language": "python",
   "name": "python3"
  },
  "language_info": {
   "codemirror_mode": {
    "name": "ipython",
    "version": 3
   },
   "file_extension": ".py",
   "mimetype": "text/x-python",
   "name": "python",
   "nbconvert_exporter": "python",
   "pygments_lexer": "ipython3",
   "version": "3.8.5"
  }
 },
 "nbformat": 4,
 "nbformat_minor": 5
}
